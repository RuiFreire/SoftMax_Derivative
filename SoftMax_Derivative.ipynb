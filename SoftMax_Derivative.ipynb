{
 "cells": [
  {
   "cell_type": "markdown",
   "metadata": {},
   "source": [
    "$$ J_{k} = - \\sum_{k = 1}^n  \\large ( \\small y_{k} \\log \\hat{y}_{k} \\large )\\small\\tag{2}$$\n",
    "\n",
    "Where: \n",
    "$$\\hat{y}_{k}=softmax( Z_{k} )$$\n",
    "and:\n",
    "$$softmax( Z_{k} ) = \\frac {e^{Z_{k} } }  {\\sum_{k = 1}^n e^{Z_{k} } } $$\n",
    "\n",
    "$$\\frac{\\partial J}{\\partial Z}= \n",
    "\\begin{bmatrix}\n",
    "   \\frac{\\partial J_{1} }{\\partial Z_{y_{1}} }   \n",
    "&  \\frac{\\partial J_{2} }{\\partial Z_{y_{1}} } \n",
    "&  \\frac{\\partial J_{3} }{\\partial Z_{y_{1}} }\n",
    "\\\\ \n",
    "\\frac{\\partial J_{1} }{\\partial Z_{y_{2}} }   \n",
    "&  \\frac{\\partial J_{2} }{\\partial Z_{y_{2}} } \n",
    "&  \\frac{\\partial J_{3} }{\\partial Z_{y_{2}} }\n",
    "\\\\\n",
    "\\frac{\\partial J_{1} }{\\partial Z_{y_{3}} }   \n",
    "&  \\frac{\\partial J_{2} }{\\partial Z_{y_{3}} } \n",
    "&  \\frac{\\partial J_{3} }{\\partial Z_{y_{3}} }\n",
    "\\\\\n",
    "\\frac{\\partial J_{1} }{\\partial Z_{y_{4}} }   \n",
    "&  \\frac{\\partial J_{2} }{\\partial Z_{y_{4}} } \n",
    "&  \\frac{\\partial J_{3} }{\\partial Z_{y_{4}} }\n",
    "\\end{bmatrix}$$"
   ]
  },
  {
   "cell_type": "markdown",
   "metadata": {},
   "source": [
    "$$\\frac{\\partial J}{\\partial Z}= \\hat{Y} - Y$$"
   ]
  },
  {
   "cell_type": "markdown",
   "metadata": {},
   "source": [
    "Example:\n",
    "$$Y= \\begin{bmatrix}  y_{1} & y_{2} & y_{3} & y_{4}\\end{bmatrix}  = \n",
    "\\begin{bmatrix}  1 & 3 & 1 & 2 \\end{bmatrix} \n",
    "-> (Using One-Hot Encoded)->\n",
    "Y = \\begin{bmatrix}  1 & 0 & 0\n",
    "               \\\\0 & 0 & 1\n",
    "               \\\\1 & 0 & 0\n",
    "               \\\\0 & 1 & 0\n",
    "\\end{bmatrix}\n",
    "$$"
   ]
  },
  {
   "cell_type": "markdown",
   "metadata": {},
   "source": [
    "For each line (i) where: $ y_i = k$ \n",
    "\n",
    "$$\\frac{\\partial \\hat{y}_{k}^{(i)}} {\\partial Z_{y_i}^{(i)}} = \n",
    "\\frac{\\partial} {\\partial Z_{y_i}^{(i)}}\\biggl( \\frac{ e^{{Z_{y_i}}^{(i)}} }\n",
    "                                                     { e^{{Z_{1}}^{(i)}} +  \n",
    "                                                       e^{{Z_{2}}^{(i)}} + \\cdots +\n",
    "                                                       e^{{Z_{k}}^{(i)}} + \\cdots +\n",
    "                                                       e^{{Z_{y_i}}^{(i)}} + \\cdots +\n",
    "                                                       e^{{Z_{n}}^{(i)}} }\n",
    "\\biggr)$$"
   ]
  },
  {
   "cell_type": "markdown",
   "metadata": {},
   "source": [
    "${Z_{y_i}}^{(i)}$ is a variable and ${Z_{k}}^{(i)}$ are constants."
   ]
  },
  {
   "cell_type": "markdown",
   "metadata": {},
   "source": [
    "We can also do: $ \\sum_{k = 1}^n e^{{Z_{k}}^{(i)}} = \\sigma $"
   ]
  },
  {
   "cell_type": "markdown",
   "metadata": {},
   "source": [
    "Then:"
   ]
  },
  {
   "cell_type": "markdown",
   "metadata": {},
   "source": [
    "$$\\frac{\\partial \\hat{y}_{k}^{(i)}} {\\partial Z_{y_i}^{(i)}}  = \n",
    "\\frac{\n",
    "   \\frac{\\partial} {\\partial Z_{y_i}^{(i)}}\\biggl( e^{{Z_{y_i}}^{(i)}} \\biggr)\\cdot\\sigma - \n",
    "   {\\frac{\\partial} {\\partial Z_{y_i}^{(i)}}\\biggl( \\sigma \\biggr)\\cdot\\ e^{{Z_{y_i}}^{(i)}}} \n",
    "   }\n",
    "{\\sigma^2}\n",
    "=\n",
    "\\frac{\n",
    "   e^{{Z_{y_i}}^{(i)}} \\cdot\\sigma -  {e^{{Z_{y_i}}^{(i)}}}^2 \n",
    "   }\n",
    "{\\sigma^2}\n",
    "=\n",
    "\\frac{ e^{{Z_{y_i}}^{(i)}} }{\\sigma} + \n",
    "\\biggl({\\frac{ e^{{Z_{y_i}}^{(i)}} }{ \\sigma }}\\biggr)^2\n",
    "=\n",
    "\\frac{ e^{{Z_{y_i}}^{(i)}} }{ \\sum_{k = 1}^n e^{{Z_{k}}^{(i)}} } + \n",
    "\\biggl({\\frac{ e^{{Z_{y_i}}^{(i)}} }{ \\sum_{k = 1}^n e^{{Z_{k}}^{(i)}} }}\\biggr)^2\n",
    "$$"
   ]
  },
  {
   "cell_type": "markdown",
   "metadata": {},
   "source": [
    "$$\n",
    "={\\hat{y}_{y_i}}^{(i)} - \\biggl( { {\\hat{y}_{y_i}}^{(i)} } \\biggr)^2\n",
    "={\\hat{y}_{y_i}}^{(i)} \\cdot \\biggl(1 - {\\hat{y}_{y_i}}^{(i)} \\biggr)\n",
    "$$"
   ]
  },
  {
   "cell_type": "markdown",
   "metadata": {},
   "source": [
    "Now for each line (i) where: $ y_i \\ne k$, we have:"
   ]
  },
  {
   "cell_type": "markdown",
   "metadata": {},
   "source": [
    "$$\\frac{\\partial \\hat{y}_{k}^{(i)}} {\\partial Z_{y_i}^{(i)}}  = \n",
    "\\frac{\n",
    "   \\frac{\\partial} {\\partial Z_{y_i}^{(i)}}\\biggl( e^{{Z_{k}}^{(i)}} \\biggr)\\cdot\\sigma - \n",
    "   {\\frac{\\partial} {\\partial Z_{y_i}^{(i)}}\\biggl( \\sigma \\biggr)\\cdot\\ e^{{Z_{k}}^{(i)}}} \n",
    "   }\n",
    "{\\sigma^2}\n",
    "=\n",
    "-{\n",
    "    \\frac{\n",
    "       e^{{Z_{y_i}}^{(i)}} \\cdot e^{{Z_{k}}^{(i)}} \n",
    "       }\n",
    "    {\\sigma^2}\n",
    "}\n",
    "=\n",
    "-{\n",
    "\\frac{e^{{Z_{y_i}}^{(i)}} }{\\sigma}\n",
    "\\cdot{\\frac{ e^{{Z_{k}}^{(i)}} }{ \\sigma }}\n",
    "}\n",
    "=\n",
    "-{\n",
    "    \\frac{ e^{{Z_{y_i}}^{(i)}} }{ \\sum_{k = 1}^n e^{{Z_{k}}^{(i)}} } \\cdot \n",
    "    {\\frac{ e^{{Z_{k}}^{(i)}} }{ \\sum_{k = 1}^n e^{{Z_{k}}^{(i)}} }}\n",
    "}\n",
    "$$"
   ]
  },
  {
   "cell_type": "markdown",
   "metadata": {},
   "source": [
    "$$\n",
    "=-{ {\\hat{y}_{y_i}}^{(i)} \\cdot { {\\hat{y}_{k}}^{(i)} } }\n",
    "$$"
   ]
  },
  {
   "cell_type": "markdown",
   "metadata": {},
   "source": [
    "$$\\frac{\\partial J_{k}^{(i)}} {\\partial Z_{y_i}^{(i)}} = \n",
    "\\frac{\\partial J_{k}^{(i)}} {\\partial {\\hat{y}_k}^{(i)}} \\cdot\n",
    "\\frac{\\partial {\\hat{y}_k}^{(i)}} {\\partial Z_{y_i}^{(i)}} \n",
    "$$"
   ]
  },
  {
   "cell_type": "markdown",
   "metadata": {},
   "source": [
    "$$\n",
    "\\frac{\\partial J_{k}^{(i)}} {\\partial {\\hat{y}_k}^{(i)}} = \n",
    "\\frac{\\partial}{ {\\hat{y}_k}^{(i)} }\n",
    "( log({ \\hat{y}_k }^{(i)} ) ) = \n",
    "-{ \\frac{1} { { \\hat{y}_k }^{(i)} } }\n",
    "\\longmapsto\n",
    "-{ \\frac{1} { { \\hat{y}_{y_i} }^{(i)} } }\n",
    "$$"
   ]
  },
  {
   "cell_type": "markdown",
   "metadata": {},
   "source": [
    "Finally for $ y_i = k$, we have: "
   ]
  },
  {
   "cell_type": "markdown",
   "metadata": {},
   "source": [
    "$$\\frac{\\partial J_{k}^{(i)}} {\\partial Z_{y_i}^{(i)}} = \n",
    "\\frac{\\partial J_{k}^{(i)}} {\\partial {\\hat{y}_k}^{(i)}} \\cdot\n",
    "\\frac{\\partial {\\hat{y}_k}^{(i)}} {\\partial Z_{y_i}^{(i)}} \n",
    "=\n",
    "-{ \\frac{1} { { \\hat{y}_{y_i} }^{(i)} } } \\cdot\n",
    "{\\hat{y}_{y_i}}^{(i)} \\cdot \\biggl(1 - {\\hat{y}_{y_i}}^{(i)} \\biggr)\n",
    "=\n",
    "{\\hat{y}_{y_i}}^{(i)} - 1\n",
    "$$"
   ]
  },
  {
   "cell_type": "code",
   "execution_count": null,
   "metadata": {},
   "outputs": [],
   "source": []
  }
 ],
 "metadata": {
  "kernelspec": {
   "display_name": "Python 3",
   "language": "python",
   "name": "python3"
  },
  "language_info": {
   "codemirror_mode": {
    "name": "ipython",
    "version": 3
   },
   "file_extension": ".py",
   "mimetype": "text/x-python",
   "name": "python",
   "nbconvert_exporter": "python",
   "pygments_lexer": "ipython3",
   "version": "3.5.6"
  }
 },
 "nbformat": 4,
 "nbformat_minor": 2
}
