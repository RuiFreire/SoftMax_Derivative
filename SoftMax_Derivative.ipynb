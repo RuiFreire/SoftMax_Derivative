{
 "cells": [
  {
   "cell_type": "markdown",
   "metadata": {},
   "source": [
    "$$ J_{k} = - \\sum_{k = 1}^n  \\large ( \\small y_{k} \\log \\hat{y}_{k} \\large )\\small\\tag{2}$$\n",
    "\n",
    "Where: \n",
    "$$\\hat{y}_{k}=softmax( Z_{k} )$$\n",
    "and:\n",
    "$$softmax( Z_{k} ) = \\frac {e^{Z_{k} } }  {\\sum_{k = 1}^n e^{Z_{k} } } $$"
   ]
  },
  {
   "cell_type": "code",
   "execution_count": null,
   "metadata": {},
   "outputs": [],
   "source": []
  }
 ],
 "metadata": {
  "kernelspec": {
   "display_name": "Python 3",
   "language": "python",
   "name": "python3"
  },
  "language_info": {
   "codemirror_mode": {
    "name": "ipython",
    "version": 3
   },
   "file_extension": ".py",
   "mimetype": "text/x-python",
   "name": "python",
   "nbconvert_exporter": "python",
   "pygments_lexer": "ipython3",
   "version": "3.5.6"
  }
 },
 "nbformat": 4,
 "nbformat_minor": 2
}
