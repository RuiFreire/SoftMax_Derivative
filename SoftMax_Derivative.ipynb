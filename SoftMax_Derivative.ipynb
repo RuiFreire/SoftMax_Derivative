{
 "cells": [
  {
   "cell_type": "markdown",
   "metadata": {},
   "source": [
    "$$ J_{k} = - \\sum_{k = 1}^n  \\large ( \\small y_{k} \\log \\hat{y}_{k} \\large )\\small\\tag{2}$$\n",
    "\n",
    "Where: \n",
    "$$\\hat{y}_{k}=softmax( Z_{k} )$$\n",
    "and:\n",
    "$$softmax( Z_{k} ) = \\frac {e^{Z_{k} } }  {\\sum_{k = 1}^n e^{Z_{k} } } $$\n",
    "\n",
    "$$\\begin{bmatrix}\n",
    "   \\frac{\\partial J_{1} }{\\partial Z_{y_{1}} }   \n",
    "&  \\frac{\\partial J_{2} }{\\partial Z_{y_{1}} } \n",
    "&  \\frac{\\partial J_{3} }{\\partial Z_{y_{1}} }\n",
    "\\\\ \n",
    "\\frac{\\partial J_{1} }{\\partial Z_{y_{2}} }   \n",
    "&  \\frac{\\partial J_{2} }{\\partial Z_{y_{2}} } \n",
    "&  \\frac{\\partial J_{3} }{\\partial Z_{y_{2}} }\n",
    "\\\\\n",
    "\\frac{\\partial J_{1} }{\\partial Z_{y_{3}} }   \n",
    "&  \\frac{\\partial J_{2} }{\\partial Z_{y_{3}} } \n",
    "&  \\frac{\\partial J_{3} }{\\partial Z_{y_{3}} }\n",
    "\\\\\n",
    "\\frac{\\partial J_{1} }{\\partial Z_{y_{4}} }   \n",
    "&  \\frac{\\partial J_{2} }{\\partial Z_{y_{4}} } \n",
    "&  \\frac{\\partial J_{3} }{\\partial Z_{y_{4}} }\n",
    "\\end{bmatrix}$$\n"
   ]
  },
  {
   "cell_type": "code",
   "execution_count": null,
   "metadata": {},
   "outputs": [],
   "source": []
  }
 ],
 "metadata": {
  "kernelspec": {
   "display_name": "Python 3",
   "language": "python",
   "name": "python3"
  },
  "language_info": {
   "codemirror_mode": {
    "name": "ipython",
    "version": 3
   },
   "file_extension": ".py",
   "mimetype": "text/x-python",
   "name": "python",
   "nbconvert_exporter": "python",
   "pygments_lexer": "ipython3",
   "version": "3.5.6"
  }
 },
 "nbformat": 4,
 "nbformat_minor": 2
}
