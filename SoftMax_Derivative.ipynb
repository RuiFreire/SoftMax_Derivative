{
 "cells": [
  {
   "cell_type": "markdown",
   "metadata": {},
   "source": [
    "$$ J_{k} = - \\sum_{k = 1}^n  \\large ( \\small y_{k} \\log \\hat{y}_{k} \\large )\\small\\tag{2}$$\n",
    "\n",
    "Where: \n",
    "$$\\hat{y}_{k}=softmax( Z_{k} )$$\n",
    "and:\n",
    "$$softmax( Z_{k} ) = \\frac {e^{Z_{k} } }  {\\sum_{k = 1}^n e^{Z_{k} } } $$\n",
    "\n",
    "$$\\frac{\\partial J}{\\partial Z}= \n",
    "\\begin{bmatrix}\n",
    "   \\frac{\\partial J_{1} }{\\partial Z_{y_{1}} }   \n",
    "&  \\frac{\\partial J_{2} }{\\partial Z_{y_{1}} } \n",
    "&  \\frac{\\partial J_{3} }{\\partial Z_{y_{1}} }\n",
    "\\\\ \n",
    "\\frac{\\partial J_{1} }{\\partial Z_{y_{2}} }   \n",
    "&  \\frac{\\partial J_{2} }{\\partial Z_{y_{2}} } \n",
    "&  \\frac{\\partial J_{3} }{\\partial Z_{y_{2}} }\n",
    "\\\\\n",
    "\\frac{\\partial J_{1} }{\\partial Z_{y_{3}} }   \n",
    "&  \\frac{\\partial J_{2} }{\\partial Z_{y_{3}} } \n",
    "&  \\frac{\\partial J_{3} }{\\partial Z_{y_{3}} }\n",
    "\\\\\n",
    "\\frac{\\partial J_{1} }{\\partial Z_{y_{4}} }   \n",
    "&  \\frac{\\partial J_{2} }{\\partial Z_{y_{4}} } \n",
    "&  \\frac{\\partial J_{3} }{\\partial Z_{y_{4}} }\n",
    "\\end{bmatrix}$$"
   ]
  },
  {
   "cell_type": "markdown",
   "metadata": {},
   "source": [
    "$$\\frac{\\partial J}{\\partial Z}= \\hat{Y} - Y$$"
   ]
  },
  {
   "cell_type": "markdown",
   "metadata": {},
   "source": [
    "Example:\n",
    "$$Y= \\begin{bmatrix}  y_{1} & y_{2} & y_{3} & y_{4}\\end{bmatrix}  = \n",
    "\\begin{bmatrix}  1 & 3 & 1 & 2 \\end{bmatrix} \n",
    "-> (Using One-Hot Encoded)->\n",
    "Y = \\begin{bmatrix}  1 & 0 & 0\n",
    "               \\\\0 & 0 & 1\n",
    "               \\\\1 & 0 & 0\n",
    "               \\\\0 & 1 & 0\n",
    "\\end{bmatrix}\n",
    "$$"
   ]
  },
  {
   "cell_type": "markdown",
   "metadata": {},
   "source": [
    "For each line (i) where: $ y_i = k$ \n",
    "\n",
    "$$\\frac{\\partial \\hat{y}_{k}^{(i)}} {\\partial Z_{y_i}^{(i)}} = \n",
    "\\frac{\\partial} {\\partial Z_{y_i}^{(i)}}\\biggl( \\frac{ e^{{Z_{y_i}}^{(i)}} }\n",
    "                                                     { e^{{Z_{1}}^{(i)}} +  \n",
    "                                                       e^{{Z_{2}}^{(i)}} + \\cdots +\n",
    "                                                       e^{{Z_{k}}^{(i)}} + \\cdots +\n",
    "                                                       e^{{Z_{y_i}}^{(i)}} + \\cdots +\n",
    "                                                       e^{{Z_{n}}^{(i)}} }\n",
    "\\biggr)$$"
   ]
  },
  {
   "cell_type": "markdown",
   "metadata": {},
   "source": [
    "${Z_{y_i}}^{(i)}$ is a variable and ${Z_{k}}^{(i)}$ are constants."
   ]
  },
  {
   "cell_type": "markdown",
   "metadata": {},
   "source": [
    "We can also do: $ \\sum_{k = 1}^n e^{{Z_{k}}^{(i)}} = \\sigma $"
   ]
  },
  {
   "cell_type": "markdown",
   "metadata": {},
   "source": [
    "$$\\frac{\\partial \\hat{y}_{k}^{(i)}} {\\partial Z_{y_i}^{(i)}}  = \n",
    "\\frac{\n",
    "   \\frac{\\partial} {\\partial Z_{y_i}^{(i)}}\\biggl( e^{{Z_{y_i}}^{(i)}} \\biggr)\\cdot\\sigma - \n",
    "   {\\frac{\\partial} {\\partial Z_{y_i}^{(i)}}\\biggl( \\sigma \\biggr)\\cdot\\ e^{{Z_{y_i}}^{(i)}}} \n",
    "   }\n",
    "{\\sigma^2}\n",
    "$$"
   ]
  },
  {
   "cell_type": "code",
   "execution_count": null,
   "metadata": {},
   "outputs": [],
   "source": []
  }
 ],
 "metadata": {
  "kernelspec": {
   "display_name": "Python 3",
   "language": "python",
   "name": "python3"
  },
  "language_info": {
   "codemirror_mode": {
    "name": "ipython",
    "version": 3
   },
   "file_extension": ".py",
   "mimetype": "text/x-python",
   "name": "python",
   "nbconvert_exporter": "python",
   "pygments_lexer": "ipython3",
   "version": "3.5.6"
  }
 },
 "nbformat": 4,
 "nbformat_minor": 2
}
